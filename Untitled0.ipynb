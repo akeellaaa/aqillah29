{
  "nbformat": 4,
  "nbformat_minor": 0,
  "metadata": {
    "colab": {
      "provenance": [],
      "authorship_tag": "ABX9TyN+EV8ah2FmL143uZ+CKTr0",
      "include_colab_link": true
    },
    "kernelspec": {
      "name": "python3",
      "display_name": "Python 3"
    },
    "language_info": {
      "name": "python"
    }
  },
  "cells": [
    {
      "cell_type": "markdown",
      "metadata": {
        "id": "view-in-github",
        "colab_type": "text"
      },
      "source": [
        "<a href=\"https://colab.research.google.com/github/akeellaaa/aqillah29/blob/master/Untitled0.ipynb\" target=\"_parent\"><img src=\"https://colab.research.google.com/assets/colab-badge.svg\" alt=\"Open In Colab\"/></a>"
      ]
    },
    {
      "cell_type": "code",
      "execution_count": null,
      "metadata": {
        "id": "KUS9j5NQmEJh",
        "colab": {
          "base_uri": "https://localhost:8080/"
        },
        "outputId": "fa6e6f8f-9419-4ade-9b5f-82cbe0489533"
      },
      "outputs": [
        {
          "output_type": "stream",
          "name": "stdout",
          "text": [
            "Hello, Welcome to my Crib\n"
          ]
        }
      ],
      "source": [
        "print(\"Hello, Welcome to my Crib\")"
      ]
    },
    {
      "cell_type": "code",
      "source": [
        "name = \"Aqillah\"\n",
        "age = 24\n",
        "\n",
        "print(\"My name is\", name)\n",
        "print(\"I am\", age, \"years old.\")"
      ],
      "metadata": {
        "colab": {
          "base_uri": "https://localhost:8080/"
        },
        "id": "_KFZrozvnWya",
        "outputId": "d56fb12f-224b-49c7-8823-9aeeb84f4fe6"
      },
      "execution_count": null,
      "outputs": [
        {
          "output_type": "stream",
          "name": "stdout",
          "text": [
            "My name is Aqillah\n",
            "I am 24 years old.\n"
          ]
        }
      ]
    },
    {
      "cell_type": "code",
      "source": [
        "a = 10\n",
        "b = 5\n",
        "\n",
        "#comment\n",
        "#Addition\n",
        "print(\"Sum:\",a+b)\n",
        "\n",
        "#Subtraction\n",
        "print(\"Difference:\",a-b)\n",
        "\n",
        "#Multiply\n",
        "print(\"Product:\",a*b)\n",
        "\n",
        "#Divide\n",
        "print(\"Division:\",a/b)"
      ],
      "metadata": {
        "colab": {
          "base_uri": "https://localhost:8080/"
        },
        "id": "J4LRdAr5olJ2",
        "outputId": "abed6e24-1665-443a-8df9-e3e83f7e6592"
      },
      "execution_count": null,
      "outputs": [
        {
          "output_type": "stream",
          "name": "stdout",
          "text": [
            "Sum: 15\n",
            "Difference: 5\n",
            "Product: 50\n",
            "Division: 2.0\n"
          ]
        }
      ]
    },
    {
      "cell_type": "code",
      "source": [
        "score = 45\n",
        "\n",
        "if score >= 80:\n",
        "  print(\"You are an A!\")\n",
        "else:\n",
        "    print (\"Keep trying!\")"
      ],
      "metadata": {
        "colab": {
          "base_uri": "https://localhost:8080/"
        },
        "id": "NAdcOw1hpjTY",
        "outputId": "987a468e-b8f7-4b37-ff1e-58b79ad2417e"
      },
      "execution_count": null,
      "outputs": [
        {
          "output_type": "stream",
          "name": "stdout",
          "text": [
            "Keep trying!\n"
          ]
        }
      ]
    },
    {
      "cell_type": "code",
      "source": [
        "for i in range(6): #Loops from 0 to 5\n",
        "  print(\"This is loop number\",i)"
      ],
      "metadata": {
        "colab": {
          "base_uri": "https://localhost:8080/"
        },
        "id": "MZLf-FKKqUOF",
        "outputId": "c9232f84-7608-40fd-fe44-39a11911efaa"
      },
      "execution_count": null,
      "outputs": [
        {
          "output_type": "stream",
          "name": "stdout",
          "text": [
            "This is loop number 0\n",
            "This is loop number 1\n",
            "This is loop number 2\n",
            "This is loop number 3\n",
            "This is loop number 4\n",
            "This is loop number 5\n"
          ]
        }
      ]
    },
    {
      "cell_type": "code",
      "source": [
        "name = \"Aqillah\"\n",
        "def greet(name):\n",
        "  print(\"Hello\",name+\"!\")\n",
        "\n",
        "greet(\"Aqillah\")"
      ],
      "metadata": {
        "colab": {
          "base_uri": "https://localhost:8080/"
        },
        "id": "ZaqzzxRauGpu",
        "outputId": "b26375f7-14f1-4918-c2ae-e24f60dcbd01"
      },
      "execution_count": null,
      "outputs": [
        {
          "output_type": "stream",
          "name": "stdout",
          "text": [
            "Hello Aqillah!\n"
          ]
        }
      ]
    },
    {
      "cell_type": "code",
      "source": [
        "name = input(\"Enter your name: \")\n",
        "age = input(\"How old are you? \")\n",
        "print(\"Nice to meet you,\",name,\"and you are\",age,\"years old\")"
      ],
      "metadata": {
        "colab": {
          "base_uri": "https://localhost:8080/"
        },
        "id": "s417O-9cvDzb",
        "outputId": "36f5a604-ef1d-48e4-8ca7-5e79f5bcac1b"
      },
      "execution_count": null,
      "outputs": [
        {
          "output_type": "stream",
          "name": "stdout",
          "text": [
            "Enter your name: Aqillah\n",
            "How old are you? 24\n",
            "Nice to meet you, Aqillah and you are 24 years old\n"
          ]
        }
      ]
    },
    {
      "cell_type": "code",
      "source": [],
      "metadata": {
        "id": "tOpuVbKXvzDF"
      },
      "execution_count": null,
      "outputs": []
    }
  ]
}